{
 "cells": [
  {
   "cell_type": "code",
   "execution_count": null,
   "metadata": {},
   "outputs": [],
   "source": [
    "## 10 Load dataset exercises\n",
    "\n",
    "\n",
    "import pandas as pd\n",
    "import numpy as np\n",
    "\n",
    "df = pd.read_csv(filepath_or_buffer = 'test.csv', sep = ',', header = 0)\n",
    "\n",
    "df.head(10)\n",
    "\n",
    "df.tail(10)\n",
    "\n",
    "df.shape\n",
    "\n",
    "df.dtypes\n",
    "\n",
    "df['daily_expenses'].dtypes\n",
    "\n",
    "df.columns[-1]\n",
    "\n",
    "df['daily_expenses'] = [str(i).replace(\",\", \".\") for i in df[\"daily_expenses\"]]\n",
    "df['hours_work'] = [str(i).replace(\",\", \".\") for i in df[\"hours_work\"]]\n",
    "df['hours_study'] = [str(i).replace(\",\", \".\") for i in df[\"hours_study\"]]\n",
    "df['hours_leisure'] = [str(i).replace(\",\", \".\") for i in df[\"hours_leisure\"]]\n",
    "df['hours_diff'] = [str(i).replace(\",\", \".\") for i in df[\"hours_diff\"]]\n",
    "df['daily_expenses'] = df['daily_expenses'].astype(float)\n",
    "df['hours_work'] = df['hours_work'].astype(float)\n",
    "df['hours_study'] = df['hours_study'].astype(float)\n",
    "df['hours_leisure'] = df['hours_leisure'].astype(float)\n",
    "df['hours_diff'] = df['hours_diff'].astype(float)\n",
    "\n",
    "df.describe()\n",
    "\n",
    "df['leisure_type'].value_counts()\n",
    "\n",
    "df['hours_diff'].max()\n",
    "\n",
    "df['hours_diff'].min()\n",
    "\n",
    "df['daily_expenses'].mean()\n",
    "\n",
    "df[df['daily_expenses'] > 0].describe()\n",
    "\n",
    "\n",
    "\n",
    "# var_to_df2 = ['date', 'daily_expenses']\n",
    "# df2 = df[var_to_df2]\n",
    "\n",
    "# df_col = df.loc[df['leisure_type'] == 'music']\n",
    "\n",
    "# leisure_date = df[['date', 'leisure_type']]\n"
   ]
  }
 ],
 "metadata": {
  "kernelspec": {
   "display_name": "Python 3",
   "language": "python",
   "name": "python3"
  },
  "language_info": {
   "codemirror_mode": {
    "name": "ipython",
    "version": 3
   },
   "file_extension": ".py",
   "mimetype": "text/x-python",
   "name": "python",
   "nbconvert_exporter": "python",
   "pygments_lexer": "ipython3",
   "version": "3.13.1"
  }
 },
 "nbformat": 4,
 "nbformat_minor": 2
}
