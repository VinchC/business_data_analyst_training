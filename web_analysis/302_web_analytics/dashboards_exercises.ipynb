{
 "cells": [
  {
   "cell_type": "code",
   "execution_count": null,
   "id": "d6039f91",
   "metadata": {},
   "outputs": [],
   "source": [
    "import pandas as pd\n",
    "import numpy as np\n",
    "import matplotlib.pyplot as plt\n",
    "import seaborn as sns\n",
    "from IPython.display import display"
   ]
  },
  {
   "cell_type": "code",
   "execution_count": null,
   "id": "9c6c51a7",
   "metadata": {},
   "outputs": [],
   "source": [
    "# (a) Dans un premier temps, nous allons lire le jeu de données \"private_data.csv\" dans un DataFrame reprenant le même nom.\n",
    "# (b) Affichez les premières lignes de ce DataFrame.\n",
    "\n",
    "private_data = pd.read_csv(\"private_data.csv\")\n",
    "private_data.head()"
   ]
  },
  {
   "cell_type": "code",
   "execution_count": null,
   "id": "fa307266",
   "metadata": {},
   "outputs": [],
   "source": [
    "# (c) Affichez les informations de private_data.\n",
    "private_data.info()"
   ]
  },
  {
   "cell_type": "code",
   "execution_count": null,
   "id": "d053ac13",
   "metadata": {},
   "outputs": [],
   "source": [
    "# (d) Transformez cette variable au bon format à l'aide de la méthode to_datetime du module pandas.\n",
    "private_data['date'] = pd.to_datetime(private_data['date'])"
   ]
  },
  {
   "cell_type": "code",
   "execution_count": null,
   "id": "3996c1b8",
   "metadata": {},
   "outputs": [],
   "source": [
    "# (e) Dans un premier temps, nous allons stocker dans une série nommée values_2019_2020, les différentes dates, en les regroupant dans l'ordre chronologique à l'aide des méthodes value_counts() puis sort_index().\n",
    "values_2019_2020 = private_data['date'].value_counts().sort_index()\n",
    "\n",
    "# (f) A l'aide de la fonction plot_date de matplotlib, affichez l'évolution du nombre de ventes.\n",
    "plt.figure(figsize=(17, 8))\n",
    "\n",
    "plt.plot_date(values_2019_2020.index, values_2019_2020, linestyle='-', color='blue')\n",
    "\n",
    "plt.title(\"Nombre de ventes par jour\")"
   ]
  },
  {
   "cell_type": "code",
   "execution_count": null,
   "id": "3a926a6e",
   "metadata": {},
   "outputs": [],
   "source": [
    "# (g) Affichez les ventes seulement sur l'année 2020, en filtrant private_data sur l'année 2020.\n",
    "values_2020 = private_data['date'][private_data['date'].dt.year==2020] # Filtre sur l'année 2020\n",
    "\n",
    "values_2020 = values_2020.value_counts() # Nombre d'occurence de chaque date pour avoir le nombre ventes par jour\n",
    "\n",
    "values_2020 = values_2020.sort_index() # Trie sur l'index : Date afin d'avoir une série chronologique\n",
    "\n",
    "plt.figure(figsize=(17, 8))\n",
    "\n",
    "plt.plot_date(values_2020.index, values_2020, linestyle='-',color='blue')\n",
    "\n",
    "plt.title(\"Nombre de ventes par jour\")"
   ]
  },
  {
   "cell_type": "code",
   "execution_count": null,
   "id": "fc491096",
   "metadata": {},
   "outputs": [],
   "source": [
    "# (h) Créez des colonnes 'day', 'week', 'month' et 'year' dans le DataFrame private_data à l'aide de la variable 'date'.\n",
    "private_data['day'] = private_data['date'].dt.weekday\n",
    "private_data['month'] = private_data['date'].dt.month\n",
    "private_data['year'] = private_data['date'].dt.year\n",
    "private_data['week'] = private_data['date'].dt.isocalendar().week"
   ]
  },
  {
   "cell_type": "code",
   "execution_count": null,
   "id": "c0e84796",
   "metadata": {},
   "outputs": [],
   "source": [
    "# (i) Créez à l'aide d'une opération .groupby, un nouveau DataFrame, nommé df_day_sum qui reprend la somme des quantités vendues par jour.\n",
    "df_day_sum = private_data.groupby('day').sum().iloc[:,:4] \n",
    "# Le iloc permet de sélectionner seulement les 4 premières variables du DataFrame\n",
    "\n",
    "# (j) Faire de même en créant df_day_mean pour la moyenne des ventes par jour.\n",
    "df_day_mean = private_data.groupby('day').mean().iloc[:,:4] \n",
    "\n",
    "# (k) Affichez les premières lignes de ces deux DataFrames.\n",
    "display(df_day_sum.head())\n",
    "display(df_day_mean.head())"
   ]
  },
  {
   "cell_type": "code",
   "execution_count": null,
   "id": "8202cd33",
   "metadata": {},
   "outputs": [],
   "source": [
    "# (l) A l'aide d'un graphique en barres et d'un camembert, affichez le nombre de ventes par jour pour les deux plateformes et leurs revendeurs (Sur une même grille).\n",
    "fig, axes = plt.subplots(1, 2, figsize=(15, 5)) # Taille de la figure et création de la grille\n",
    "\n",
    "\n",
    "sns.barplot(ax=axes[0], x=df_day_sum.index, y=df_day_sum['quantity']) # barplot\n",
    "\n",
    "axes[0].set_title('Nombre de ventes par jour'); # Titre\n",
    "\n",
    "\n",
    "\n",
    "axes[1].pie(df_day_sum['quantity'],radius=1.5,labels=['Lundi','Mardi','Mercredi','Jeudi','Vendredi','Samedi','Dimanche'],autopct='%1.0f%%',labeldistance=1.1,pctdistance=0.5); # pieplot\n"
   ]
  },
  {
   "cell_type": "code",
   "execution_count": null,
   "id": "64398b4b",
   "metadata": {},
   "outputs": [],
   "source": [
    "# (m) Faites de même pour la moyenne des ventes par jour.\n",
    "\n",
    "fig, axes = plt.subplots(1, 2, figsize=(15, 5)) # Taille de la figure et création de la grille\n",
    "\n",
    "sns.barplot(ax=axes[0], x=df_day_mean.index, y=df_day_mean['quantity']) # barplot\n",
    "\n",
    "axes[0].set_title('Moyenne de ventes par jour') # Titre \n",
    "\n",
    "axes[1].pie(df_day_mean['quantity'],radius=1.5,labels=df_day_mean.index,autopct='%1.0f%%'); # pieplot\n",
    "\n",
    "plt.legend(loc='center')"
   ]
  }
 ],
 "metadata": {
  "kernelspec": {
   "display_name": "Python 3",
   "language": "python",
   "name": "python3"
  },
  "language_info": {
   "codemirror_mode": {
    "name": "ipython",
    "version": 3
   },
   "file_extension": ".py",
   "mimetype": "text/x-python",
   "name": "python",
   "nbconvert_exporter": "python",
   "pygments_lexer": "ipython3",
   "version": "3.13.1"
  }
 },
 "nbformat": 4,
 "nbformat_minor": 5
}
