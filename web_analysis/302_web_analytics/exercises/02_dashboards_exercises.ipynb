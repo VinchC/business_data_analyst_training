{
 "cells": [
  {
   "cell_type": "code",
   "execution_count": null,
   "id": "d6039f91",
   "metadata": {},
   "outputs": [],
   "source": [
    "import pandas as pd\n",
    "import numpy as np\n",
    "import matplotlib.pyplot as plt\n",
    "import seaborn as sns\n",
    "from IPython.display import display"
   ]
  },
  {
   "cell_type": "code",
   "execution_count": null,
   "id": "9c6c51a7",
   "metadata": {},
   "outputs": [],
   "source": [
    "# (a) Dans un premier temps, nous allons lire le jeu de données \"private_data.csv\" dans un DataFrame reprenant le même nom.\n",
    "# (b) Affichez les premières lignes de ce DataFrame.\n",
    "\n",
    "private_data = pd.read_csv(\"private_data.csv\")\n",
    "private_data.head()"
   ]
  },
  {
   "cell_type": "code",
   "execution_count": null,
   "id": "fa307266",
   "metadata": {},
   "outputs": [],
   "source": [
    "# (c) Affichez les informations de private_data.\n",
    "private_data.info()"
   ]
  },
  {
   "cell_type": "code",
   "execution_count": null,
   "id": "d053ac13",
   "metadata": {},
   "outputs": [],
   "source": [
    "# (d) Transformez cette variable au bon format à l'aide de la méthode to_datetime du module pandas.\n",
    "private_data['date'] = pd.to_datetime(private_data['date'])"
   ]
  },
  {
   "cell_type": "code",
   "execution_count": null,
   "id": "3996c1b8",
   "metadata": {},
   "outputs": [],
   "source": [
    "# (e) Dans un premier temps, nous allons stocker dans une série nommée values_2019_2020, les différentes dates, en les regroupant dans l'ordre chronologique à l'aide des méthodes value_counts() puis sort_index().\n",
    "values_2019_2020 = private_data['date'].value_counts().sort_index()\n",
    "\n",
    "# (f) A l'aide de la fonction plot_date de matplotlib, affichez l'évolution du nombre de ventes.\n",
    "plt.figure(figsize=(17, 8))\n",
    "\n",
    "plt.plot_date(values_2019_2020.index, values_2019_2020, linestyle='-', color='blue')\n",
    "\n",
    "plt.title(\"Nombre de ventes par jour\")"
   ]
  },
  {
   "cell_type": "code",
   "execution_count": null,
   "id": "3a926a6e",
   "metadata": {},
   "outputs": [],
   "source": [
    "# (g) Affichez les ventes seulement sur l'année 2020, en filtrant private_data sur l'année 2020.\n",
    "values_2020 = private_data['date'][private_data['date'].dt.year==2020] # Filtre sur l'année 2020\n",
    "\n",
    "values_2020 = values_2020.value_counts() # Nombre d'occurence de chaque date pour avoir le nombre ventes par jour\n",
    "\n",
    "values_2020 = values_2020.sort_index() # Trie sur l'index : Date afin d'avoir une série chronologique\n",
    "\n",
    "plt.figure(figsize=(17, 8))\n",
    "\n",
    "plt.plot_date(values_2020.index, values_2020, linestyle='-',color='blue')\n",
    "\n",
    "plt.title(\"Nombre de ventes par jour\")"
   ]
  },
  {
   "cell_type": "code",
   "execution_count": null,
   "id": "fc491096",
   "metadata": {},
   "outputs": [],
   "source": [
    "# (h) Créez des colonnes 'day', 'week', 'month' et 'year' dans le DataFrame private_data à l'aide de la variable 'date'.\n",
    "private_data['day'] = private_data['date'].dt.weekday\n",
    "private_data['month'] = private_data['date'].dt.month\n",
    "private_data['year'] = private_data['date'].dt.year\n",
    "private_data['week'] = private_data['date'].dt.isocalendar().week"
   ]
  },
  {
   "cell_type": "code",
   "execution_count": null,
   "id": "c0e84796",
   "metadata": {},
   "outputs": [],
   "source": [
    "# (i) Créez à l'aide d'une opération .groupby, un nouveau DataFrame, nommé df_day_sum qui reprend la somme des quantités vendues par jour.\n",
    "df_day_sum = private_data.groupby('day').sum().iloc[:,:4] \n",
    "# Le iloc permet de sélectionner seulement les 4 premières variables du DataFrame\n",
    "\n",
    "# (j) Faire de même en créant df_day_mean pour la moyenne des ventes par jour.\n",
    "df_day_mean = private_data.groupby('day').mean().iloc[:,:4] \n",
    "\n",
    "# (k) Affichez les premières lignes de ces deux DataFrames.\n",
    "display(df_day_sum.head())\n",
    "display(df_day_mean.head())"
   ]
  },
  {
   "cell_type": "code",
   "execution_count": null,
   "id": "8202cd33",
   "metadata": {},
   "outputs": [],
   "source": [
    "# (l) A l'aide d'un graphique en barres et d'un camembert, affichez le nombre de ventes par jour pour les deux plateformes et leurs revendeurs (Sur une même grille).\n",
    "fig, axes = plt.subplots(1, 2, figsize=(15, 5)) # Taille de la figure et création de la grille\n",
    "\n",
    "sns.barplot(ax=axes[0], x=df_day_sum.index, y=df_day_sum['quantity']) # barplot\n",
    "\n",
    "axes[0].set_title('Nombre de ventes par jour'); # Titre\n",
    "\n",
    "axes[1].pie(df_day_sum['quantity'],radius=1.5,labels=['Lundi','Mardi','Mercredi','Jeudi','Vendredi','Samedi','Dimanche'],autopct='%1.0f%%',labeldistance=1.1,pctdistance=0.5); # pieplot\n"
   ]
  },
  {
   "cell_type": "code",
   "execution_count": null,
   "id": "64398b4b",
   "metadata": {},
   "outputs": [],
   "source": [
    "# (m) Faites de même pour la moyenne des ventes par jour.\n",
    "\n",
    "fig, axes = plt.subplots(1, 2, figsize=(15, 5)) # Taille de la figure et création de la grille\n",
    "\n",
    "sns.barplot(ax=axes[0], x=df_day_mean.index, y=df_day_mean['quantity']) # barplot\n",
    "\n",
    "axes[0].set_title('Moyenne de ventes par jour') # Titre \n",
    "\n",
    "axes[1].pie(df_day_mean['quantity'],radius=1.5,labels=df_day_mean.index,autopct='%1.0f%%'); # pieplot\n",
    "\n",
    "plt.legend(loc='center')"
   ]
  },
  {
   "cell_type": "code",
   "execution_count": null,
   "id": "a420ed41",
   "metadata": {},
   "outputs": [],
   "source": [
    "# (n) Dans deux DataFrame nommés df_week_sum et df_week_mean, stockez à l'aide d'une opération .groupby la somme et la moyenne des ventes par semaine.\n",
    "df_week_sum = private_data.groupby('week').sum()\n",
    "df_week_mean = private_data.groupby('week').mean()\n",
    "\n",
    "# (o) Affichez sur deux graphiques en barres la somme et la moyenne des ventes par semaine.\n",
    "fig, axes = plt.subplots(1, 2, figsize=(22, 5)) # Taille de la figure et création de la grille\n",
    "\n",
    "sns.barplot(ax=axes[0], x=df_week_sum.index, y=df_week_sum['quantity']) # barplot\n",
    "axes[0].set_title('Nombre de ventes par semaine'); # Titre\n",
    "\n",
    "sns.barplot(ax=axes[1], x=df_week_mean.index, y=df_week_mean['quantity']) # barplot\n",
    "axes[1].set_title('Moyenne de ventes par semaine'); # Titre"
   ]
  },
  {
   "cell_type": "code",
   "execution_count": null,
   "id": "04e3c742",
   "metadata": {},
   "outputs": [],
   "source": [
    "# (p) Faites de même pour la somme et la moyenne des ventes sur les mois de l'année.\n",
    "df_month_sum = private_data.groupby('month').sum()\n",
    "df_month_mean = private_data.groupby('month').mean()\n",
    "\n",
    "fig, axes = plt.subplots(1, 2, figsize=(15,5 ))\n",
    "sns.barplot(ax=axes[0], x=df_month_mean.index, y=df_month_mean['quantity'])\n",
    "\n",
    "axes[0].set_title('Moyenne de ventes par Mois')\n",
    "\n",
    "axes[1].pie(df_month_sum['quantity'],radius=1.5,labels=['Janvier','Février','Mars', 'Avril','Mai','Juin','Juillet','Août', 'Septembre','Octobre'],autopct='%1.0f%%', labeldistance=1)"
   ]
  },
  {
   "cell_type": "code",
   "execution_count": null,
   "id": "32e03bc4",
   "metadata": {},
   "outputs": [],
   "source": [
    "# (q) Dans un DataFrame nommé df_seller, regroupez private_data par seller_id en affichant la somme des produits vendus ainsi que le nombre de produits dans la commande concernée.\n",
    "\n",
    "df_seller = private_data.groupby('seller_id').sum()[['quantity','order_count']]\n",
    "df_seller"
   ]
  },
  {
   "cell_type": "code",
   "execution_count": null,
   "id": "0a1d2ef6",
   "metadata": {},
   "outputs": [],
   "source": [
    "# (r) Dans un graphique en barres, affichez les quantités vendues par seller_id.\n",
    "plt.figure(figsize=(17,8))\n",
    "\n",
    "sns.barplot(x=df_seller.index,y=df_seller['quantity'])"
   ]
  },
  {
   "cell_type": "code",
   "execution_count": null,
   "id": "f5b59726",
   "metadata": {},
   "outputs": [],
   "source": [
    "# (s) Dans un DataFrame nommé df_product, stockez la somme des quantités vendues par produit.\n",
    "df_product = private_data.groupby('product_id').sum()[['quantity','order_count']]\n",
    "\n",
    "# (t) Triez la variable 'quantity' par ordre décroissant.\n",
    "df_product = df_product.quantity.sort_values(ascending=False)"
   ]
  },
  {
   "cell_type": "code",
   "execution_count": null,
   "id": "332e7999",
   "metadata": {},
   "outputs": [],
   "source": [
    "# (u) Affichez, dans un graphique en barre, les quantités vendues pour les 20 meilleurs produits.\n",
    "plt.figure(figsize=(17,8))\n",
    "\n",
    "sns.barplot(x=df_product.index[:20],y=df_product.values[:20])\n",
    "plt.title('Somme des ventes par numéro de produit')"
   ]
  },
  {
   "cell_type": "code",
   "execution_count": null,
   "id": "e2e9ef19",
   "metadata": {},
   "outputs": [],
   "source": [
    "# (v) Répondez aux questions que peut se poser le détenteur de ce site e-commerce :\n",
    "\n",
    "# Par qui est vendu le produit ? Sur quelle Marketplace ? \n",
    "product_1948 = private_data[private_data['product_id']==1948] # Seller n°9 sur Shopee\n",
    "\n",
    "# Quel est le chiffre réalisé sur ce produit ? Quelle part du chiffre d'affaires représente-t-il ?\n",
    "df_product.values[0]*product_1948.average_selling_price.mean()\n",
    "\n",
    "# Chiffre d'affaires du vendeur\n",
    "df_c9 = product_1948['quantity']*product_1948['average_selling_price']\n",
    "df_c9.sum()\n",
    "\n",
    "# Quel jour ce produit est-il le plus vendu ?\n",
    "product_1948['day'].value_counts()\n",
    "\n",
    "# La déclinaison \n",
    "product_1948['variation_id'].value_counts()"
   ]
  },
  {
   "cell_type": "code",
   "execution_count": null,
   "id": "2ae75e72",
   "metadata": {},
   "outputs": [],
   "source": [
    "# (w) A vous de jouer et de faire de même sur le produit comptabilisant le moins de ventes.\n",
    "df_product = df_product.quantity.sort_values(ascending=True)\n",
    "df_product\n",
    "\n",
    "# Par qui est vendu le produit ? Sur quelle Marketplace ? \n",
    "product_1093 = private_data[private_data['product_id']==1093]\n",
    "\n",
    "# Quel est le chiffre réalisé sur ce produit ? Quelle part du chiffre d'affaires représente-t-il ?\n",
    "df_product.values[0]*product_1093.average_selling_price.mean()\n",
    "\n",
    "# Chiffre d'affaires du vendeur\n",
    "df_c8 = product_1093['quantity']*product_1093['average_selling_price']\n",
    "df_c8.sum()\n",
    "\n",
    "# Quel jour ce produit est-il le plus vendu ?\n",
    "product_1093['day'].value_counts()\n",
    "\n",
    "# La déclinaison \n",
    "product_1093['variation_id'].value_counts()"
   ]
  },
  {
   "cell_type": "code",
   "execution_count": null,
   "id": "955b907b",
   "metadata": {},
   "outputs": [],
   "source": [
    "# (x) A l'aide d'une opération .groupby, affichez la somme des quantités vendues par Marketplace dans un DataFrame nommé df_marketplace.\n",
    "df_marketplace = private_data.groupby('marketplace').agg({'quantity':sum})\n",
    "df_marketplace\n",
    "\n",
    "# (y) A l'aide d'une opération .groupby puis d'une opération .agg, affichez la somme des quantités vendues par 'marketplace' et par 'seller_id' dans un DataFrame nommé df_seller.\n",
    "df_seller = private_data.groupby(['marketplace', 'seller_id']).agg({'quantity':sum})\n",
    "df_seller"
   ]
  },
  {
   "cell_type": "code",
   "execution_count": null,
   "id": "f8b3e189",
   "metadata": {},
   "outputs": [],
   "source": [
    "# (z) Affichez, dans deux camemberts côte à côte, les quantités totales vendues par marketplace puis par marketplace et vendeur.\n",
    "\n",
    "fig, axes = plt.subplots(1, 2, figsize = (17,5))\n",
    "\n",
    "# pieplot 1 \n",
    "axes[0].pie(df_marketplace.quantity,labels = df_marketplace.index,autopct = '%1.0f%%', radius = 1.5,labeldistance = 1.1)\n",
    "axes[0].legend(loc = 'center')\n",
    "\n",
    "# pieplot 2 \n",
    "axes[1].pie(df_seller.quantity,labels = df_seller.index,autopct = '%1.0f%%', radius = 1.5,labeldistance = 1.1)\n",
    "axes[1].legend(loc = 'center')"
   ]
  },
  {
   "cell_type": "markdown",
   "id": "2f5bd0e5",
   "metadata": {},
   "source": [
    "## Analyse des reviews"
   ]
  },
  {
   "cell_type": "code",
   "execution_count": null,
   "id": "a26fcc22",
   "metadata": {},
   "outputs": [],
   "source": [
    "# (a) Lisez le fichier final_stamp.csv dans un DataFrame portant le même nom.\n",
    "final_stamp = pd.read_csv(\"final_stamp.csv\")\n",
    "\n",
    "# (b) Affichez les premières lignes et les informations de ce DataFrame.\n",
    "display(final_stamp.head())\n",
    "display(final_stamp.info())"
   ]
  },
  {
   "cell_type": "code",
   "execution_count": null,
   "id": "5c84a8c2",
   "metadata": {},
   "outputs": [],
   "source": [
    "# (c) Créez un DataFrame nommé df_rating_marketplace dans lequel vous allez stocker la moyenne des notes obtenues pour chaque marketplace.\n",
    "df_rating_marketplace = final_stamp.groupby('marketplace').mean()['rating_avg']\n",
    "display(df_rating_marketplace)\n",
    "\n",
    "df_rating_marketplace = final_stamp.groupby('marketplace').agg({'rating_avg' : 'mean'})\n",
    "display(df_rating_marketplace)\n",
    "\n",
    "# (d) Affichez ces données dans un graphique en barres.\n",
    "plt.figure(figsize=(17,8))\n",
    "\n",
    "sns.barplot(x=df_rating_marketplace.index,y=df_rating_marketplace['rating_avg'])"
   ]
  },
  {
   "cell_type": "code",
   "execution_count": null,
   "id": "08cbf1a9",
   "metadata": {},
   "outputs": [],
   "source": [
    "# (e) Dans un DataFrame nommé final_stamp_bis, appliquez une opération .groupby par product_id, puis triez les notes par ordre croissant.\n",
    "final_stamp_bis = final_stamp.groupby('product_id') # Regroupement par 'product_id'\n",
    "\n",
    "final_stamp_bis = final_stamp_bis.max() # On prend le maximum pour comptabiliser toutes les notes d'un produit\n",
    "\n",
    "final_stamp_bis = final_stamp_bis.sort_values(by=['rating_1','rating_2','rating_4','rating_5'],ascending=False).iloc[:,1:10]\n",
    "# On trie sur les notes avant de sélectionner les différentes variables\n",
    "display(final_stamp_bis)"
   ]
  },
  {
   "cell_type": "code",
   "execution_count": null,
   "id": "dc21fd0d",
   "metadata": {},
   "outputs": [],
   "source": [
    "# (f) Dans un DataFrame nommé private_data_bis, calculez la somme des quantités vendues par 'product_id'.\n",
    "private_data_bis=private_data.groupby('product_id').sum()['quantity']\n",
    "display(private_data_bis)"
   ]
  },
  {
   "cell_type": "code",
   "execution_count": null,
   "id": "e8d07f2c",
   "metadata": {},
   "outputs": [],
   "source": [
    "# (g) A l'aide d'un .merge, fusionnez ces deux jeux de données par leur index commun dans un DataFrame nommé fusion.\n",
    "fusion = final_stamp_bis.merge(private_data_bis,on='product_id')\n",
    "\n",
    "# (h) Supprimez les valeurs manquantes de fusion et affichez ses premières lignes.\n",
    "fusion = fusion.dropna()\n",
    "\n",
    "display(fusion.head())"
   ]
  },
  {
   "cell_type": "code",
   "execution_count": null,
   "id": "915da59e",
   "metadata": {},
   "outputs": [],
   "source": [
    "# (i) Appliquez la fonction fiche_produit sur le produit n°789.\n",
    "fiche_produit(789, fusion)"
   ]
  }
 ],
 "metadata": {
  "kernelspec": {
   "display_name": "Python 3",
   "language": "python",
   "name": "python3"
  },
  "language_info": {
   "codemirror_mode": {
    "name": "ipython",
    "version": 3
   },
   "file_extension": ".py",
   "mimetype": "text/x-python",
   "name": "python",
   "nbconvert_exporter": "python",
   "pygments_lexer": "ipython3",
   "version": "3.13.1"
  }
 },
 "nbformat": 4,
 "nbformat_minor": 5
}
